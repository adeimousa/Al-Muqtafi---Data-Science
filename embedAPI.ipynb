{
 "cells": [
  {
   "cell_type": "code",
   "execution_count": null,
   "id": "fe318c0c",
   "metadata": {},
   "outputs": [
    {
     "name": "stdout",
     "output_type": "stream",
     "text": [
      " * Serving Flask app \"__main__\" (lazy loading)\n",
      " * Environment: production\n",
      "   WARNING: This is a development server. Do not use it in a production deployment.\n",
      "   Use a production WSGI server instead.\n",
      " * Debug mode: off\n"
     ]
    },
    {
     "name": "stderr",
     "output_type": "stream",
     "text": [
      "INFO:werkzeug: * Running on http://127.0.0.1:8080/ (Press CTRL+C to quit)\n",
      "INFO:werkzeug:127.0.0.1 - - [14/Feb/2022 18:32:05] \"\u001b[37mPOST /embed HTTP/1.0\u001b[0m\" 200 -\n",
      "INFO:werkzeug:127.0.0.1 - - [14/Feb/2022 18:32:19] \"\u001b[37mPOST /embed HTTP/1.0\u001b[0m\" 200 -\n",
      "INFO:werkzeug:127.0.0.1 - - [14/Feb/2022 18:32:32] \"\u001b[37mPOST /embed HTTP/1.0\u001b[0m\" 200 -\n",
      "INFO:werkzeug:127.0.0.1 - - [14/Feb/2022 18:32:40] \"\u001b[37mPOST /embed HTTP/1.0\u001b[0m\" 200 -\n",
      "INFO:werkzeug:127.0.0.1 - - [14/Feb/2022 18:32:45] \"\u001b[37mPOST /embed HTTP/1.0\u001b[0m\" 200 -\n",
      "INFO:werkzeug:127.0.0.1 - - [14/Feb/2022 18:33:22] \"\u001b[37mPOST /embed HTTP/1.0\u001b[0m\" 200 -\n",
      "INFO:werkzeug:127.0.0.1 - - [14/Feb/2022 18:33:31] \"\u001b[37mPOST /embed HTTP/1.0\u001b[0m\" 200 -\n",
      "INFO:werkzeug:127.0.0.1 - - [14/Feb/2022 18:33:45] \"\u001b[37mPOST /embed HTTP/1.0\u001b[0m\" 200 -\n",
      "INFO:werkzeug:127.0.0.1 - - [14/Feb/2022 18:34:54] \"\u001b[37mPOST /embed HTTP/1.0\u001b[0m\" 200 -\n",
      "INFO:werkzeug:127.0.0.1 - - [14/Feb/2022 18:35:10] \"\u001b[37mPOST /embed HTTP/1.0\u001b[0m\" 200 -\n",
      "INFO:werkzeug:127.0.0.1 - - [14/Feb/2022 18:35:49] \"\u001b[37mPOST /embed HTTP/1.0\u001b[0m\" 200 -\n",
      "INFO:werkzeug:127.0.0.1 - - [14/Feb/2022 18:36:12] \"\u001b[37mPOST /embed HTTP/1.0\u001b[0m\" 200 -\n",
      "INFO:werkzeug:127.0.0.1 - - [14/Feb/2022 18:36:18] \"\u001b[37mPOST /embed HTTP/1.0\u001b[0m\" 200 -\n",
      "INFO:werkzeug:127.0.0.1 - - [14/Feb/2022 18:36:28] \"\u001b[37mPOST /embed HTTP/1.0\u001b[0m\" 200 -\n",
      "INFO:werkzeug:127.0.0.1 - - [14/Feb/2022 18:37:30] \"\u001b[37mPOST /embed HTTP/1.0\u001b[0m\" 200 -\n",
      "INFO:werkzeug:127.0.0.1 - - [14/Feb/2022 18:38:27] \"\u001b[37mPOST /embed HTTP/1.0\u001b[0m\" 200 -\n",
      "INFO:werkzeug:127.0.0.1 - - [14/Feb/2022 18:38:35] \"\u001b[37mPOST /embed HTTP/1.0\u001b[0m\" 200 -\n",
      "INFO:werkzeug:127.0.0.1 - - [14/Feb/2022 18:38:47] \"\u001b[37mPOST /embed HTTP/1.0\u001b[0m\" 200 -\n",
      "INFO:werkzeug:127.0.0.1 - - [14/Feb/2022 18:38:55] \"\u001b[37mPOST /embed HTTP/1.0\u001b[0m\" 200 -\n",
      "INFO:werkzeug:127.0.0.1 - - [14/Feb/2022 19:04:00] \"\u001b[37mPOST /embed HTTP/1.0\u001b[0m\" 200 -\n",
      "INFO:werkzeug:127.0.0.1 - - [14/Feb/2022 19:04:08] \"\u001b[37mPOST /embed HTTP/1.0\u001b[0m\" 200 -\n",
      "INFO:werkzeug:127.0.0.1 - - [14/Feb/2022 19:04:29] \"\u001b[37mPOST /embed HTTP/1.0\u001b[0m\" 200 -\n",
      "INFO:werkzeug:127.0.0.1 - - [14/Feb/2022 19:04:40] \"\u001b[37mPOST /embed HTTP/1.0\u001b[0m\" 200 -\n",
      "INFO:werkzeug:127.0.0.1 - - [14/Feb/2022 19:29:16] \"\u001b[37mPOST /embed HTTP/1.1\u001b[0m\" 200 -\n",
      "INFO:werkzeug:127.0.0.1 - - [14/Feb/2022 19:29:31] \"\u001b[37mPOST /embed HTTP/1.0\u001b[0m\" 200 -\n",
      "INFO:werkzeug:127.0.0.1 - - [14/Feb/2022 19:30:12] \"\u001b[37mPOST /embed HTTP/1.0\u001b[0m\" 200 -\n"
     ]
    }
   ],
   "source": [
    "from flask import Flask\n",
    "import tensorflow.compat.v1 as tf\n",
    "import tensorflow_hub as hub\n",
    "from tensorflow_text import SentencepieceTokenizer\n",
    "import sys\n",
    "import pickle\n",
    "from flask import request\n",
    "from flask import jsonify\n",
    "import json\n",
    "app = Flask(__name__)\n",
    "module_url = 'https://tfhub.dev/google/universal-sentence-encoder-multilingual/3'\n",
    "model = hub.load(module_url)\n",
    "@app.route('/embed', methods=['POST'])\n",
    "def predict():\n",
    "\n",
    "    json_ = request.json\n",
    "    result = model(json_['query'])[0].numpy().tolist()\n",
    "    return json.dumps(result)\n",
    "\n",
    "\n",
    "if __name__ == '__main__':\n",
    "     app.run(port=8080)"
   ]
  },
  {
   "cell_type": "code",
   "execution_count": null,
   "id": "5fce6add",
   "metadata": {},
   "outputs": [],
   "source": []
  },
  {
   "cell_type": "code",
   "execution_count": null,
   "id": "60260e98",
   "metadata": {},
   "outputs": [],
   "source": []
  }
 ],
 "metadata": {
  "kernelspec": {
   "display_name": "Python 3",
   "language": "python",
   "name": "python3"
  },
  "language_info": {
   "codemirror_mode": {
    "name": "ipython",
    "version": 3
   },
   "file_extension": ".py",
   "mimetype": "text/x-python",
   "name": "python",
   "nbconvert_exporter": "python",
   "pygments_lexer": "ipython3",
   "version": "3.8.8"
  }
 },
 "nbformat": 4,
 "nbformat_minor": 5
}
